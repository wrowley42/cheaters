{
 "cells": [
  {
   "cell_type": "code",
   "execution_count": 2,
   "metadata": {},
   "outputs": [],
   "source": [
    "# import statements\n",
    "import numpy as np\n",
    "import pandas as pd\n",
    "import pybaseball as pyball\n",
    "import matplotlib.pyplot as plt\n",
    "import statsmodels.api as sm\n",
    "from statsmodels.genmod.generalized_linear_model import GLM\n",
    "from statsmodels.genmod import families\n",
    "import statsmodels.formula.api as smf\n",
    "import math\n",
    "from scipy import stats\n",
    "\n",
    "# importing what we need for the logistic regression\n",
    "from sklearn.model_selection import train_test_split\n",
    "from sklearn.linear_model import LogisticRegression\n",
    "from sklearn import metrics\n",
    "\n",
    "pyball.cache.enable()"
   ]
  },
  {
   "cell_type": "code",
   "execution_count": 3,
   "metadata": {},
   "outputs": [
    {
     "name": "stdout",
     "output_type": "stream",
     "text": [
      "This is a large query, it may take a moment to complete\n"
     ]
    },
    {
     "name": "stderr",
     "output_type": "stream",
     "text": [
      "100%|██████████| 57/57 [00:07<00:00,  7.89it/s]\n"
     ]
    },
    {
     "name": "stdout",
     "output_type": "stream",
     "text": [
      "This is a large query, it may take a moment to complete\n"
     ]
    },
    {
     "name": "stderr",
     "output_type": "stream",
     "text": [
      "100%|██████████| 101/101 [00:09<00:00, 11.12it/s]\n"
     ]
    }
   ],
   "source": [
    "# pulling in statcast data\n",
    "statcast_before_raw = pyball.statcast('2021-04-04', '2021-05-30')\n",
    "statcast_after_raw = pyball.statcast('2021-06-22', '2021-09-30')"
   ]
  },
  {
   "cell_type": "code",
   "execution_count": 4,
   "metadata": {},
   "outputs": [],
   "source": [
    "## We need to combine the two, with a variable for post_crackdown\n",
    "statcast_before_raw['post_crackdown'] = 0\n",
    "statcast_after_raw['post_crackdown'] = 1\n",
    "\n",
    "data = pd.concat([statcast_before_raw, statcast_after_raw], axis=0)"
   ]
  },
  {
   "cell_type": "code",
   "execution_count": 5,
   "metadata": {},
   "outputs": [],
   "source": [
    "# lets get the info we need to regress fastball spin rates\n",
    "data = data[['pitch_type',\n",
    "            'release_spin_rate',\n",
    "            'player_name',\n",
    "            'post_crackdown']].dropna(how='any')\n",
    "\n",
    "# forcing it out of the d type\n",
    "data = data.astype({\n",
    "    column: np.int32\n",
    "    for column in data.drop(['pitch_type', 'player_name'], axis=1).columns\n",
    "})\n",
    "\n",
    "# getting only the fastballs\n",
    "fb_data = data[data['pitch_type'] == \"FF\"]"
   ]
  },
  {
   "cell_type": "code",
   "execution_count": 6,
   "metadata": {},
   "outputs": [],
   "source": [
    "# function to create a logit model\n",
    "formula = \"post_crackdown ~ release_spin_rate\"\n",
    "\n",
    "def get_logit_model(data, name):\n",
    "    df = rm_outliers(data[data['player_name'] == name], \"release_spin_rate\")\n",
    "    fit = smf.logit(formula, df).fit()\n",
    "    return fit"
   ]
  },
  {
   "cell_type": "code",
   "execution_count": 12,
   "metadata": {},
   "outputs": [],
   "source": [
    "# function to get average RPMs before and after the crackdown\n",
    "def print_averages(data, name):\n",
    "\n",
    "    player_data = data[data['player_name'] == name]\n",
    "    before = player_data[player_data['post_crackdown'] == 0]\n",
    "    after = player_data[player_data['post_crackdown'] == 1]\n",
    "    print(before['release_spin_rate'].mean())\n",
    "    print(after['release_spin_rate'].mean())"
   ]
  },
  {
   "cell_type": "code",
   "execution_count": 8,
   "metadata": {},
   "outputs": [],
   "source": [
    "# function to remove outliers\n",
    "def rm_outliers(df, col):\n",
    "    q_low = df[col].quantile(0.01)\n",
    "    q_hi  = df[col].quantile(0.99)\n",
    "    return df[(df[col] < q_hi) & (df[col] > q_low)].dropna()"
   ]
  },
  {
   "cell_type": "code",
   "execution_count": 9,
   "metadata": {},
   "outputs": [],
   "source": [
    "# print results of a model\n",
    "\n",
    "def print_logit_model(data, name): \n",
    "\n",
    "    model = get_logit_model(fb_data, name)\n",
    "\n",
    "    df = rm_outliers(data[data['player_name'] == name], \"release_spin_rate\")\n",
    "    pred_data = pd.DataFrame({'release_spin_rate': np.linspace(df['release_spin_rate'].min(), df['release_spin_rate'].max(), 1000)})\n",
    "    probs = model.predict(pred_data)\n",
    "\n",
    "    # plotting\n",
    "    plt.figure(figsize=(7, 7), facecolor=\"white\")\n",
    "    ax = plt.axes()\n",
    "    ax.scatter(df['release_spin_rate'], df['post_crackdown'], color='b', alpha=0.05)\n",
    "    ax.scatter(pred_data, probs, color=\"black\", s=4)\n",
    "    ax.set_ylabel('Pre (0) Vs. Post (1) Crackdown')\n",
    "    ax.set_xlabel('FB Spin Rate (RPMs)')\n",
    "    ax.set_title(name)\n",
    "    plt.show()"
   ]
  },
  {
   "cell_type": "code",
   "execution_count": null,
   "metadata": {},
   "outputs": [],
   "source": [
    "# alrighty, iterating through every single pitcher and pulling p-values\n",
    "\n",
    "pitcher_list = data['player_name'].unique()\n",
    "\n",
    "fb_pvalues = []\n",
    "fb_coef = []\n",
    "fb_names = []\n",
    "fb_rs = []\n",
    "\n",
    "for pitcher in pitcher_list:\n",
    "\n",
    "    player_fb = fb_data[fb_data['player_name'] == pitcher]\n",
    "\n",
    "    if (np.shape(player_fb[player_fb['post_crackdown'] == 0])[0] > 100) & (np.shape(player_fb[player_fb['post_crackdown'] == 1])[0] > 100):    \n",
    "\n",
    "        player_logreg = get_logit_model(player_fb, pitcher)\n",
    "\n",
    "        # appending to our arrays \n",
    "        fb_pvalues.append(player_logreg.pvalues[1])\n",
    "        fb_coef.append(player_logreg.params[1])\n",
    "        fb_names.append(pitcher)\n",
    "        fb_rs.append(player_logreg.prsquared)\n",
    "\n",
    "# creating dfs from our final results\n",
    "fb_results = pd.DataFrame({\n",
    "    'p_value': fb_pvalues,\n",
    "    'coef': fb_coef,\n",
    "    'r_squared': fb_rs,\n",
    "    'name': fb_names \n",
    "})"
   ]
  },
  {
   "cell_type": "code",
   "execution_count": 11,
   "metadata": {},
   "outputs": [],
   "source": [
    "# get list of cheaters\n",
    "cheaters = fb_results[(fb_results['p_value'] < 0.001) & (fb_results['coef'] < 0) & (fb_results['r_squared'] > 0.1)]\n",
    "not_cheaters = fb_results[(fb_results['p_value'] > 0.001) | (fb_results['coef'] > 0) | (fb_results['r_squared'] > 0.1)]\n",
    "cheaters.to_clipboard()"
   ]
  }
 ],
 "metadata": {
  "kernelspec": {
   "display_name": "Python 3.8.9 64-bit",
   "language": "python",
   "name": "python3"
  },
  "language_info": {
   "codemirror_mode": {
    "name": "ipython",
    "version": 3
   },
   "file_extension": ".py",
   "mimetype": "text/x-python",
   "name": "python",
   "nbconvert_exporter": "python",
   "pygments_lexer": "ipython3",
   "version": "3.8.9"
  },
  "orig_nbformat": 4,
  "vscode": {
   "interpreter": {
    "hash": "31f2aee4e71d21fbe5cf8b01ff0e069b9275f58929596ceb00d14d90e3e16cd6"
   }
  }
 },
 "nbformat": 4,
 "nbformat_minor": 2
}
